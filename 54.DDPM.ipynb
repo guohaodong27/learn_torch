{
 "cells": [
  {
   "metadata": {},
   "cell_type": "markdown",
   "source": "# 1. 创建数据集",
   "id": "a09047db3ba9e837"
  },
  {
   "metadata": {},
   "cell_type": "code",
   "outputs": [],
   "execution_count": null,
   "source": [
    "%matplotlib inline\n",
    "\n",
    "import matplotlib.pyplot as plt\n",
    "import numpy as np\n",
    "import torch\n",
    "from sklearn.datasets import make_s_curve\n",
    "\n",
    "s_curve,_ = make_s_curve(10**4, noise=0.1)\n",
    "s_curve = s_curve[:,[0,2]]/10.0\n",
    "\n",
    "print(\"shape of s:\",np.shape(s_curve))\n",
    "\n",
    "data = s_curve.T\n",
    "\n",
    "fig,ax = plt.subplots()\n",
    "ax.scatter(*data,color='blue',edgecolor='white')\n",
    "\n",
    "ax.axis('off')\n",
    "\n",
    "dataset = torch.Tensor(s_curve).float()\n"
   ],
   "id": "167d65a25fc5c48c"
  },
  {
   "metadata": {},
   "cell_type": "markdown",
   "source": [
    "# 2. 确定超参数\n",
    "\n",
    "| 数学公式         | 变量名字       | |数据类型|备注                          |\n",
    "|--------------|------------|--|-----------------------------|\n",
    "| $t$          | time_step  |int| 一个正整数,时间步，加噪声的次数            |\n",
    "| $\\beta$      | beta       |torch.tensor(time_step,1) |一个数组,要求见下                   | \n",
    "| $\\alpha$     | alpha      |torch.tensor(time_step,1)|作为一个变量代换,$\\alpha = 1-\\beta$ | \n",
    "| $\\bar\\alpha$ | alpha_prod |torch.tensor(time_step,1) float | alpha的连乘,$alpha_t$                       | \n",
    "| $\\alpha$     | alpha      | |                            | \n",
    "| $\\alpha$     | alpha      | |                            | \n",
    "| $\\alpha$     | alpha      | |                            | \n",
    "| $\\alpha$     | alpha      | |                            | \n",
    "| $\\alpha$     | alpha      | |                            | \n",
    "\n",
    "$\\beta$作为一个控制噪声强度的量：\n",
    "\n",
    "$\\beta_t$(beta\\[t\\])表示第$t$次添加的噪声的“强度”,在公式中$\\beta_t$是第$t$次添加的方差,$\\sqrt{1-\\beta_t}$是第$t$次的均值\n",
    "需要满足：\n",
    "1. $\\beta\\in(0,1)$\n",
    "2. $\\beta_1 <\\beta_2 < \\dots < \\beta_t$\n",
    "\n"
   ],
   "id": "a50948da7dd9c9aa"
  },
  {
   "metadata": {},
   "cell_type": "code",
   "outputs": [],
   "execution_count": null,
   "source": [
    "t_steps = 100\n",
    "\n",
    "beta = torch.sigmoid(torch.linspace(-10, 10, t_steps))\n",
    "\n",
    "alpha = 1 - beta\n",
    "\n",
    "alpha_prod = torch.cumprod(alpha,dim=0)\n"
   ],
   "id": "e7152b78caa468cc"
  }
 ],
 "metadata": {
  "kernelspec": {
   "display_name": "Python 3",
   "language": "python",
   "name": "python3"
  },
  "language_info": {
   "codemirror_mode": {
    "name": "ipython",
    "version": 2
   },
   "file_extension": ".py",
   "mimetype": "text/x-python",
   "name": "python",
   "nbconvert_exporter": "python",
   "pygments_lexer": "ipython2",
   "version": "2.7.6"
  }
 },
 "nbformat": 4,
 "nbformat_minor": 5
}
