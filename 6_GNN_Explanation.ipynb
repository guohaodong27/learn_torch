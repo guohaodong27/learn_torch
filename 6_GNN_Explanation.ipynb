{
 "nbformat": 4,
 "nbformat_minor": 0,
 "metadata": {
  "colab": {
   "provenance": [],
   "gpuType": "T4"
  },
  "kernelspec": {
   "display_name": "Python 3 (ipykernel)",
   "name": "python3",
   "language": "python"
  },
  "accelerator": "GPU"
 },
 "cells": [
  {
   "cell_type": "code",
   "metadata": {
    "colab": {
     "base_uri": "https://localhost:8080/"
    },
    "id": "F1op-CbyLuN4",
    "outputId": "0a8ba199-87d0-4d4e-801f-f6ed4e2d7a56",
    "ExecuteTime": {
     "end_time": "2024-10-24T09:21:34.429996Z",
     "start_time": "2024-10-24T09:21:05.588912Z"
    }
   },
   "source": [
    "# Install required packages.\n",
    "import os\n",
    "import torch\n",
    "os.environ['TORCH'] = torch.__version__\n",
    "print(torch.__version__)\n",
    "\n",
    "!pip install -q torch-scatter -f https://data.pyg.org/whl/torch-${TORCH}.html\n",
    "!pip install -q torch-sparse -f https://data.pyg.org/whl/torch-${TORCH}.html\n",
    "!pip install -q git+https://github.com/pyg-team/pytorch_geometric.git\n",
    "!pip install -q captum\n",
    "\n",
    "# Helper function for visualization.\n",
    "import matplotlib.pyplot as plt"
   ],
   "outputs": [
    {
     "name": "stdout",
     "output_type": "stream",
     "text": [
      "2.4.1+cu124\n"
     ]
    },
    {
     "name": "stderr",
     "output_type": "stream",
     "text": [
      "  error: subprocess-exited-with-error\n",
      "  \n",
      "  Getting requirements to build wheel did not run successfully.\n",
      "  exit code: 1\n",
      "  \n",
      "  [20 lines of output]\n",
      "  Traceback (most recent call last):\n",
      "    File \"F:\\learn_torch\\.venv\\Lib\\site-packages\\pip\\_vendor\\pyproject_hooks\\_in_process\\_in_process.py\", line 353, in <module>\n",
      "      main()\n",
      "    File \"F:\\learn_torch\\.venv\\Lib\\site-packages\\pip\\_vendor\\pyproject_hooks\\_in_process\\_in_process.py\", line 335, in main\n",
      "      json_out['return_val'] = hook(**hook_input['kwargs'])\n",
      "                               ^^^^^^^^^^^^^^^^^^^^^^^^^^^^\n",
      "    File \"F:\\learn_torch\\.venv\\Lib\\site-packages\\pip\\_vendor\\pyproject_hooks\\_in_process\\_in_process.py\", line 118, in get_requires_for_build_wheel\n",
      "      return hook(config_settings)\n",
      "             ^^^^^^^^^^^^^^^^^^^^^\n",
      "    File \"C:\\Users\\holden\\AppData\\Local\\Temp\\pip-build-env-iod_qby8\\overlay\\Lib\\site-packages\\setuptools\\build_meta.py\", line 332, in get_requires_for_build_wheel\n",
      "      return self._get_build_requires(config_settings, requirements=[])\n",
      "             ^^^^^^^^^^^^^^^^^^^^^^^^^^^^^^^^^^^^^^^^^^^^^^^^^^^^^^^^^^\n",
      "    File \"C:\\Users\\holden\\AppData\\Local\\Temp\\pip-build-env-iod_qby8\\overlay\\Lib\\site-packages\\setuptools\\build_meta.py\", line 302, in _get_build_requires\n",
      "      self.run_setup()\n",
      "    File \"C:\\Users\\holden\\AppData\\Local\\Temp\\pip-build-env-iod_qby8\\overlay\\Lib\\site-packages\\setuptools\\build_meta.py\", line 516, in run_setup\n",
      "      super().run_setup(setup_script=setup_script)\n",
      "    File \"C:\\Users\\holden\\AppData\\Local\\Temp\\pip-build-env-iod_qby8\\overlay\\Lib\\site-packages\\setuptools\\build_meta.py\", line 318, in run_setup\n",
      "      exec(code, locals())\n",
      "    File \"<string>\", line 8, in <module>\n",
      "  ModuleNotFoundError: No module named 'torch'\n",
      "  [end of output]\n",
      "  \n",
      "  note: This error originates from a subprocess, and is likely not a problem with pip.\n",
      "error: subprocess-exited-with-error\n",
      "\n",
      "Getting requirements to build wheel did not run successfully.\n",
      "exit code: 1\n",
      "\n",
      "See above for output.\n",
      "\n",
      "note: This error originates from a subprocess, and is likely not a problem with pip.\n",
      "\n",
      "[notice] A new release of pip is available: 23.2.1 -> 24.2\n",
      "[notice] To update, run: python.exe -m pip install --upgrade pip\n",
      "  error: subprocess-exited-with-error\n",
      "  \n",
      "  Getting requirements to build wheel did not run successfully.\n",
      "  exit code: 1\n",
      "  \n",
      "  [20 lines of output]\n",
      "  Traceback (most recent call last):\n",
      "    File \"F:\\learn_torch\\.venv\\Lib\\site-packages\\pip\\_vendor\\pyproject_hooks\\_in_process\\_in_process.py\", line 353, in <module>\n",
      "      main()\n",
      "    File \"F:\\learn_torch\\.venv\\Lib\\site-packages\\pip\\_vendor\\pyproject_hooks\\_in_process\\_in_process.py\", line 335, in main\n",
      "      json_out['return_val'] = hook(**hook_input['kwargs'])\n",
      "                               ^^^^^^^^^^^^^^^^^^^^^^^^^^^^\n",
      "    File \"F:\\learn_torch\\.venv\\Lib\\site-packages\\pip\\_vendor\\pyproject_hooks\\_in_process\\_in_process.py\", line 118, in get_requires_for_build_wheel\n",
      "      return hook(config_settings)\n",
      "             ^^^^^^^^^^^^^^^^^^^^^\n",
      "    File \"C:\\Users\\holden\\AppData\\Local\\Temp\\pip-build-env-3iltmb3q\\overlay\\Lib\\site-packages\\setuptools\\build_meta.py\", line 332, in get_requires_for_build_wheel\n",
      "      return self._get_build_requires(config_settings, requirements=[])\n",
      "             ^^^^^^^^^^^^^^^^^^^^^^^^^^^^^^^^^^^^^^^^^^^^^^^^^^^^^^^^^^\n",
      "    File \"C:\\Users\\holden\\AppData\\Local\\Temp\\pip-build-env-3iltmb3q\\overlay\\Lib\\site-packages\\setuptools\\build_meta.py\", line 302, in _get_build_requires\n",
      "      self.run_setup()\n",
      "    File \"C:\\Users\\holden\\AppData\\Local\\Temp\\pip-build-env-3iltmb3q\\overlay\\Lib\\site-packages\\setuptools\\build_meta.py\", line 516, in run_setup\n",
      "      super().run_setup(setup_script=setup_script)\n",
      "    File \"C:\\Users\\holden\\AppData\\Local\\Temp\\pip-build-env-3iltmb3q\\overlay\\Lib\\site-packages\\setuptools\\build_meta.py\", line 318, in run_setup\n",
      "      exec(code, locals())\n",
      "    File \"<string>\", line 8, in <module>\n",
      "  ModuleNotFoundError: No module named 'torch'\n",
      "  [end of output]\n",
      "  \n",
      "  note: This error originates from a subprocess, and is likely not a problem with pip.\n",
      "error: subprocess-exited-with-error\n",
      "\n",
      "Getting requirements to build wheel did not run successfully.\n",
      "exit code: 1\n",
      "\n",
      "See above for output.\n",
      "\n",
      "note: This error originates from a subprocess, and is likely not a problem with pip.\n",
      "\n",
      "[notice] A new release of pip is available: 23.2.1 -> 24.2\n",
      "[notice] To update, run: python.exe -m pip install --upgrade pip\n",
      "\n",
      "[notice] A new release of pip is available: 23.2.1 -> 24.2\n",
      "[notice] To update, run: python.exe -m pip install --upgrade pip\n",
      "\n",
      "[notice] A new release of pip is available: 23.2.1 -> 24.2\n",
      "[notice] To update, run: python.exe -m pip install --upgrade pip\n"
     ]
    }
   ],
   "execution_count": 20
  },
  {
   "cell_type": "markdown",
   "metadata": {
    "id": "nMTL0kk0seBw"
   },
   "source": [
    "# Explaining GNN Model Predictions using Captum\n",
    "\n",
    "In this tutorial we demonstrate how to apply feature attribution methods to graphs. Specifically, we try to find the most important edges for each instance prediction.  \n",
    "\n",
    "We use the Mutagenicity dataset from [TUDatasets](https://chrsmrrs.github.io/datasets/). This dataset consists of 4337 molecule graphs where the task is to predict the molecule mutagenicity."
   ]
  },
  {
   "cell_type": "markdown",
   "metadata": {
    "id": "mJtgD2A1uJAa"
   },
   "source": [
    "## Loading the dataset\n",
    "\n",
    "We load the dataset and use 10% of the data as the test split."
   ]
  },
  {
   "cell_type": "code",
   "metadata": {
    "id": "SE2iREv4q2dL",
    "ExecuteTime": {
     "end_time": "2024-10-24T09:21:34.453185Z",
     "start_time": "2024-10-24T09:21:34.431002Z"
    }
   },
   "source": [
    "from torch_geometric.loader import DataLoader\n",
    "from torch_geometric.datasets import TUDataset\n",
    "\n",
    "path = '.'\n",
    "dataset = TUDataset(path, name='Mutagenicity').shuffle()\n",
    "test_dataset = dataset[:len(dataset) // 10]\n",
    "train_dataset = dataset[len(dataset) // 10:]\n",
    "test_loader = DataLoader(test_dataset, batch_size=128)\n",
    "train_loader = DataLoader(train_dataset, batch_size=128)"
   ],
   "outputs": [],
   "execution_count": 21
  },
  {
   "cell_type": "markdown",
   "metadata": {
    "id": "g35SSQ3oukNM"
   },
   "source": [
    "## Visualizing the data\n",
    "\n",
    "We define some utility functions for visualizing the molecules and draw a random molecule."
   ]
  },
  {
   "cell_type": "code",
   "metadata": {
    "id": "9Hh3YNASuYxm",
    "ExecuteTime": {
     "end_time": "2024-10-24T09:21:34.458826Z",
     "start_time": "2024-10-24T09:21:34.454195Z"
    }
   },
   "source": [
    "import networkx as nx\n",
    "import numpy as np\n",
    "\n",
    "from torch_geometric.utils import to_networkx\n",
    "\n",
    "\n",
    "def draw_molecule(g, edge_mask=None, draw_edge_labels=False):\n",
    "    g = g.copy().to_undirected()\n",
    "    node_labels = {}\n",
    "    for u, data in g.nodes(data=True):\n",
    "        node_labels[u] = data['name']\n",
    "    pos = nx.planar_layout(g)\n",
    "    pos = nx.spring_layout(g, pos=pos)\n",
    "    if edge_mask is None:\n",
    "        edge_color = 'black'\n",
    "        widths = None\n",
    "    else:\n",
    "        edge_color = [edge_mask[(u, v)] for u, v in g.edges()]\n",
    "        widths = [x * 10 for x in edge_color]\n",
    "    nx.draw(g, pos=pos, labels=node_labels, width=widths,\n",
    "            edge_color=edge_color, edge_cmap=plt.cm.Blues,\n",
    "            node_color='azure')\n",
    "\n",
    "    if draw_edge_labels and edge_mask is not None:\n",
    "        edge_labels = {k: ('%.2f' % v) for k, v in edge_mask.items()}\n",
    "        nx.draw_networkx_edge_labels(g, pos, edge_labels=edge_labels,\n",
    "                                    font_color='red')\n",
    "    plt.show()\n",
    "\n",
    "\n",
    "def to_molecule(data):\n",
    "    ATOM_MAP = ['C', 'O', 'Cl', 'H', 'N', 'F',\n",
    "                'Br', 'S', 'P', 'I', 'Na', 'K', 'Li', 'Ca']\n",
    "    g = to_networkx(data, node_attrs=['x'])\n",
    "    for u, data in g.nodes(data=True):\n",
    "        data['name'] = ATOM_MAP[data['x'].index(1.0)]\n",
    "        del data['x']\n",
    "    return g\n"
   ],
   "outputs": [],
   "execution_count": 22
  },
  {
   "cell_type": "markdown",
   "metadata": {
    "id": "cJ3JuTH1vV1V"
   },
   "source": [
    "## Sample visualization\n",
    "\n",
    "We sample a single molecule from train_dataset and visualize it"
   ]
  },
  {
   "cell_type": "code",
   "metadata": {
    "id": "4Z2uE7zVuhXU",
    "ExecuteTime": {
     "end_time": "2024-10-24T09:21:34.884863Z",
     "start_time": "2024-10-24T09:21:34.459831Z"
    }
   },
   "source": [
    "import random\n",
    "\n",
    "data = random.choice([t for t in train_dataset])\n",
    "mol = to_molecule(data)\n",
    "plt.figure(figsize=(10, 5))\n",
    "draw_molecule(mol)"
   ],
   "outputs": [
    {
     "data": {
      "text/plain": [
       "<Figure size 1000x500 with 1 Axes>"
      ],
      "image/png": "[encoded data removed]"
     },
     "metadata": {},
     "output_type": "display_data"
    }
   ],
   "execution_count": 23
  },
  {
   "cell_type": "markdown",
   "metadata": {
    "id": "6kZo9g1hwCGG"
   },
   "source": [
    "## Training the model\n",
    "\n",
    "In the next section, we train a GNN model with 5 convolution layers. We use GraphConv which supports `edge_weight` as a parameter. Many convolution layers in Pytorch Geometric supoort this argument."
   ]
  },
  {
   "cell_type": "markdown",
   "metadata": {
    "id": "GBVIOfMCCHAb"
   },
   "source": [
    "### Define the model"
   ]
  },
  {
   "cell_type": "code",
   "metadata": {
    "id": "iI1qpFUhrA2p",
    "ExecuteTime": {
     "end_time": "2024-10-24T09:21:34.890116Z",
     "start_time": "2024-10-24T09:21:34.884863Z"
    }
   },
   "source": [
    "import torch\n",
    "from torch.nn import Linear\n",
    "import torch.nn.functional as F\n",
    "\n",
    "from torch_geometric.nn import GraphConv, global_add_pool\n",
    "\n",
    "class Net(torch.nn.Module):\n",
    "    def __init__(self, dim):\n",
    "        super(Net, self).__init__()\n",
    "\n",
    "        num_features = dataset.num_features\n",
    "        self.dim = dim\n",
    "\n",
    "        self.conv1 = GraphConv(num_features, dim)\n",
    "        self.conv2 = GraphConv(dim, dim)\n",
    "        self.conv3 = GraphConv(dim, dim)\n",
    "        self.conv4 = GraphConv(dim, dim)\n",
    "        self.conv5 = GraphConv(dim, dim)\n",
    "\n",
    "        self.lin1 = Linear(dim, dim)\n",
    "        self.lin2 = Linear(dim, dataset.num_classes)\n",
    "\n",
    "    def forward(self, x, edge_index, batch, edge_weight=None):\n",
    "        x = self.conv1(x, edge_index, edge_weight).relu()\n",
    "        x = self.conv2(x, edge_index, edge_weight).relu()\n",
    "        x = self.conv3(x, edge_index, edge_weight).relu()\n",
    "        x = self.conv4(x, edge_index, edge_weight).relu()\n",
    "        x = self.conv5(x, edge_index, edge_weight).relu()\n",
    "        x = global_add_pool(x, batch)\n",
    "        x = self.lin1(x).relu()\n",
    "        x = F.dropout(x, p=0.5, training=self.training)\n",
    "        x = self.lin2(x)\n",
    "        return F.log_softmax(x, dim=-1)\n"
   ],
   "outputs": [],
   "execution_count": 24
  },
  {
   "cell_type": "markdown",
   "metadata": {
    "id": "L3WOZ40OCKO5"
   },
   "source": [
    "### Define train and test functions"
   ]
  },
  {
   "cell_type": "code",
   "metadata": {
    "id": "ExNsODp3rKjN",
    "ExecuteTime": {
     "end_time": "2024-10-24T09:21:34.896177Z",
     "start_time": "2024-10-24T09:21:34.891121Z"
    }
   },
   "source": [
    "def train(epoch):\n",
    "    model.train()\n",
    "\n",
    "    if epoch == 51:\n",
    "        for param_group in optimizer.param_groups:\n",
    "            param_group['lr'] = 0.5 * param_group['lr']\n",
    "\n",
    "    loss_all = 0\n",
    "    for data in train_loader:\n",
    "        data = data.to(device)\n",
    "        optimizer.zero_grad()\n",
    "        output = model(data.x, data.edge_index, data.batch)\n",
    "        loss = F.nll_loss(output, data.y)\n",
    "        loss.backward()\n",
    "        loss_all += loss.item() * data.num_graphs\n",
    "        optimizer.step()\n",
    "    return loss_all / len(train_dataset)\n",
    "\n",
    "\n",
    "def test(loader):\n",
    "    model.eval()\n",
    "\n",
    "    correct = 0\n",
    "    for data in loader:\n",
    "        data = data.to(device)\n",
    "        output = model(data.x, data.edge_index, data.batch)\n",
    "        pred = output.max(dim=1)[1]\n",
    "        correct += pred.eq(data.y).sum().item()\n",
    "    return correct / len(loader.dataset)"
   ],
   "outputs": [],
   "execution_count": 25
  },
  {
   "cell_type": "markdown",
   "metadata": {
    "id": "rsv9CQ6hCNMI"
   },
   "source": [
    "### Train the model for 100 epochs\n",
    "\n",
    "The accuracy should be around 80% in the end"
   ]
  },
  {
   "cell_type": "code",
   "metadata": {
    "id": "4imSoTlMrQdN",
    "jupyter": {
     "is_executing": true
    },
    "ExecuteTime": {
     "start_time": "2024-10-24T09:21:34.897181Z"
    }
   },
   "source": [
    "device = torch.device('cuda' if torch.cuda.is_available() else 'cpu')\n",
    "model = Net(dim=32).to(device)\n",
    "optimizer = torch.optim.Adam(model.parameters(), lr=0.001)\n",
    "\n",
    "for epoch in range(1, 101):\n",
    "    loss = train(epoch)\n",
    "    train_acc = test(train_loader)\n",
    "    test_acc = test(test_loader)\n",
    "    print(f'Epoch: {epoch:03d}, Loss: {loss:.4f}, '\n",
    "          f'Train Acc: {train_acc:.4f}, Test Acc: {test_acc:.4f}')\n"
   ],
   "outputs": [
    {
     "name": "stdout",
     "output_type": "stream",
     "text": [
      "Epoch: 001, Loss: 0.9477, Train Acc: 0.6358, Test Acc: 0.6721\n",
      "Epoch: 002, Loss: 0.6508, Train Acc: 0.6752, Test Acc: 0.6905\n",
      "Epoch: 003, Loss: 0.6257, Train Acc: 0.6893, Test Acc: 0.7136\n",
      "Epoch: 004, Loss: 0.6087, Train Acc: 0.7200, Test Acc: 0.7483\n",
      "Epoch: 005, Loss: 0.5811, Train Acc: 0.7203, Test Acc: 0.7483\n",
      "Epoch: 006, Loss: 0.5671, Train Acc: 0.7415, Test Acc: 0.7621\n",
      "Epoch: 007, Loss: 0.5569, Train Acc: 0.7505, Test Acc: 0.7714\n",
      "Epoch: 008, Loss: 0.5460, Train Acc: 0.7556, Test Acc: 0.7737\n",
      "Epoch: 009, Loss: 0.5405, Train Acc: 0.7626, Test Acc: 0.7829\n",
      "Epoch: 010, Loss: 0.5307, Train Acc: 0.7682, Test Acc: 0.7898\n",
      "Epoch: 011, Loss: 0.5297, Train Acc: 0.7705, Test Acc: 0.7898\n",
      "Epoch: 012, Loss: 0.5223, Train Acc: 0.7795, Test Acc: 0.7875\n",
      "Epoch: 013, Loss: 0.5080, Train Acc: 0.7792, Test Acc: 0.7829\n",
      "Epoch: 014, Loss: 0.5062, Train Acc: 0.7810, Test Acc: 0.7852\n",
      "Epoch: 015, Loss: 0.5079, Train Acc: 0.7812, Test Acc: 0.7875\n",
      "Epoch: 016, Loss: 0.5023, Train Acc: 0.7843, Test Acc: 0.7945\n",
      "Epoch: 017, Loss: 0.4989, Train Acc: 0.7892, Test Acc: 0.7691\n",
      "Epoch: 018, Loss: 0.4874, Train Acc: 0.7879, Test Acc: 0.7806\n",
      "Epoch: 019, Loss: 0.4841, Train Acc: 0.7892, Test Acc: 0.7737\n",
      "Epoch: 020, Loss: 0.4756, Train Acc: 0.8040, Test Acc: 0.7783\n",
      "Epoch: 021, Loss: 0.4648, Train Acc: 0.8112, Test Acc: 0.7806\n",
      "Epoch: 022, Loss: 0.4739, Train Acc: 0.8099, Test Acc: 0.7968\n",
      "Epoch: 023, Loss: 0.4693, Train Acc: 0.8143, Test Acc: 0.7852\n",
      "Epoch: 024, Loss: 0.4684, Train Acc: 0.8087, Test Acc: 0.7991\n",
      "Epoch: 025, Loss: 0.4619, Train Acc: 0.8161, Test Acc: 0.7921\n",
      "Epoch: 026, Loss: 0.4606, Train Acc: 0.8204, Test Acc: 0.7991\n",
      "Epoch: 027, Loss: 0.4500, Train Acc: 0.8207, Test Acc: 0.8060\n",
      "Epoch: 028, Loss: 0.4487, Train Acc: 0.8202, Test Acc: 0.7968\n",
      "Epoch: 029, Loss: 0.4412, Train Acc: 0.8227, Test Acc: 0.8106\n",
      "Epoch: 030, Loss: 0.4384, Train Acc: 0.8258, Test Acc: 0.8176\n",
      "Epoch: 031, Loss: 0.4385, Train Acc: 0.8271, Test Acc: 0.8037\n",
      "Epoch: 032, Loss: 0.4550, Train Acc: 0.8002, Test Acc: 0.7875\n",
      "Epoch: 033, Loss: 0.4364, Train Acc: 0.8238, Test Acc: 0.8060\n",
      "Epoch: 034, Loss: 0.4167, Train Acc: 0.8356, Test Acc: 0.8176\n",
      "Epoch: 035, Loss: 0.4154, Train Acc: 0.8384, Test Acc: 0.8222\n",
      "Epoch: 036, Loss: 0.4192, Train Acc: 0.8271, Test Acc: 0.7991\n",
      "Epoch: 037, Loss: 0.4247, Train Acc: 0.8371, Test Acc: 0.7945\n",
      "Epoch: 038, Loss: 0.4201, Train Acc: 0.8332, Test Acc: 0.7875\n",
      "Epoch: 039, Loss: 0.4145, Train Acc: 0.8373, Test Acc: 0.8083\n",
      "Epoch: 040, Loss: 0.4003, Train Acc: 0.8312, Test Acc: 0.8014\n",
      "Epoch: 041, Loss: 0.3994, Train Acc: 0.8427, Test Acc: 0.8037\n",
      "Epoch: 042, Loss: 0.3921, Train Acc: 0.8368, Test Acc: 0.7991\n",
      "Epoch: 043, Loss: 0.3950, Train Acc: 0.8438, Test Acc: 0.8060\n",
      "Epoch: 044, Loss: 0.3955, Train Acc: 0.8414, Test Acc: 0.8060\n",
      "Epoch: 045, Loss: 0.3921, Train Acc: 0.8466, Test Acc: 0.8014\n",
      "Epoch: 046, Loss: 0.3962, Train Acc: 0.8440, Test Acc: 0.7991\n",
      "Epoch: 047, Loss: 0.3855, Train Acc: 0.8402, Test Acc: 0.7968\n",
      "Epoch: 048, Loss: 0.3872, Train Acc: 0.8251, Test Acc: 0.7852\n",
      "Epoch: 049, Loss: 0.3863, Train Acc: 0.8379, Test Acc: 0.8083\n",
      "Epoch: 050, Loss: 0.3768, Train Acc: 0.8512, Test Acc: 0.8060\n",
      "Epoch: 051, Loss: 0.3750, Train Acc: 0.8489, Test Acc: 0.7968\n",
      "Epoch: 052, Loss: 0.3695, Train Acc: 0.8555, Test Acc: 0.8037\n",
      "Epoch: 053, Loss: 0.3718, Train Acc: 0.8550, Test Acc: 0.8152\n",
      "Epoch: 054, Loss: 0.3600, Train Acc: 0.8568, Test Acc: 0.8129\n"
     ]
    }
   ],
   "execution_count": null
  },
  {
   "cell_type": "markdown",
   "metadata": {
    "id": "PzX9xwFxCTff"
   },
   "source": [
    "## Explaining the predictions\n",
    "\n",
    "Now we look at two popular attribution methods. First, we calculate the gradient of the output with respect to the edge weights $w_{e_i}$. Edge weights are initially one for all edges.\n",
    "For the saliency method, we use the absolute value of the gradient as the attribution value for each edge:\n",
    "\n",
    "$$\n",
    "Attribution_{e_i} = |\\frac{\\partial F(x)}{\\partial w_{e_i}}|\n",
    "$$\n",
    "\n",
    "Where $x$ is the input and $F(x)$ is the output of the GNN model on input $x$.\n",
    "\n",
    "For Integrated Gradients method, we interpolate between the current input and a baseline input where the weight of all edges is zero and accumulate the gradient values for each edge:\n",
    "\n",
    "$$\n",
    "Attribution_{e_i} = \\int_{\\alpha =0}^1 \\frac{\\partial F(x_{\\alpha)}}{\\partial w_{e_i}} d\\alpha\n",
    "$$\n",
    "\n",
    "Where $x_{\\alpha}$ is the same as the original input graph but the weight of all edges is set to $\\alpha$. Integrated Gradients complete formulation is more complicated but since our initial edge weights are equal to one and the baseline is zero, it can be simplified to the formulation above. You can read more about this method [here](https://arxiv.org/abs/1703.01365). Of course, this can not be calculated directly and is approximated by a discrete sum.\n",
    "\n",
    "We use the [captum](https://captum.ai/) library for calculating the attribution values. We define the `model_forward` function which calculates the `batch` argument assuming that we are only explaining a single graph at a time.\n",
    "\n"
   ]
  },
  {
   "cell_type": "code",
   "metadata": {
    "id": "Wz6B1NgorzAX",
    "jupyter": {
     "is_executing": true
    }
   },
   "source": [
    "from captum.attr import Saliency, IntegratedGradients\n",
    "\n",
    "def model_forward(edge_mask, data):\n",
    "    batch = torch.zeros(data.x.shape[0], dtype=int).to(device)\n",
    "    out = model(data.x, data.edge_index, batch, edge_mask)\n",
    "    return out\n",
    "\n",
    "\n",
    "def explain(method, data, target=0):\n",
    "    input_mask = torch.ones(data.edge_index.shape[1]).requires_grad_(True).to(device)\n",
    "    if method == 'ig':\n",
    "        ig = IntegratedGradients(model_forward)\n",
    "        mask = ig.attribute(input_mask, target=target,\n",
    "                            additional_forward_args=(data,),\n",
    "                            internal_batch_size=data.edge_index.shape[1])\n",
    "    elif method == 'saliency':\n",
    "        saliency = Saliency(model_forward)\n",
    "        mask = saliency.attribute(input_mask, target=target,\n",
    "                                  additional_forward_args=(data,))\n",
    "    else:\n",
    "        raise Exception('Unknown explanation method')\n",
    "\n",
    "    edge_mask = np.abs(mask.cpu().detach().numpy())\n",
    "    if edge_mask.max() > 0:  # avoid division by zero\n",
    "        edge_mask = edge_mask / edge_mask.max()\n",
    "    return edge_mask"
   ],
   "outputs": [],
   "execution_count": null
  },
  {
   "cell_type": "markdown",
   "metadata": {
    "id": "0FPGLRtSFacR"
   },
   "source": [
    "Finally we take a random sample from the test dataset and run the explanation methods. For a simpler visualization, we make the graph undirected and merge the explanations of each edge in both directions.\n",
    "\n",
    "It is known that NO2 substructure makes the molecules mutagenic in many cases and you can verify this by the model explanations.\n",
    "\n",
    "Mutagenic molecules have label 0 in this dataset and we only sample from those molecules but you can change the code and see the explanations for the other class as well.\n",
    "\n",
    "In this visualization, edge colors and thickness represent the importance. You can also see the numeric value by passing `draw_edge_labels` to `draw_molecule` function.\n",
    "\n",
    "As you can see Integrated Gradients tend to create more accurate explanations."
   ]
  },
  {
   "cell_type": "code",
   "metadata": {
    "id": "Z1mJVbKorh5y",
    "jupyter": {
     "is_executing": true
    }
   },
   "source": [
    "import random\n",
    "from collections import defaultdict\n",
    "\n",
    "def aggregate_edge_directions(edge_mask, data):\n",
    "    edge_mask_dict = defaultdict(float)\n",
    "    for val, u, v in list(zip(edge_mask, *data.edge_index)):\n",
    "        u, v = u.item(), v.item()\n",
    "        if u > v:\n",
    "            u, v = v, u\n",
    "        edge_mask_dict[(u, v)] += val\n",
    "    return edge_mask_dict\n",
    "\n",
    "\n",
    "data = random.choice([t for t in test_dataset if not t.y.item()])\n",
    "mol = to_molecule(data)\n",
    "\n",
    "for title, method in [('Integrated Gradients', 'ig'), ('Saliency', 'saliency')]:\n",
    "    edge_mask = explain(method, data, target=0)\n",
    "    edge_mask_dict = aggregate_edge_directions(edge_mask, data)\n",
    "    plt.figure(figsize=(10, 5))\n",
    "    plt.title(title)\n",
    "    draw_molecule(mol, edge_mask_dict)"
   ],
   "outputs": [],
   "execution_count": null
  },
  {
   "metadata": {
    "jupyter": {
     "is_executing": true
    }
   },
   "cell_type": "code",
   "source": "",
   "outputs": [],
   "execution_count": null
  },
  {
   "metadata": {
    "jupyter": {
     "is_executing": true
    }
   },
   "cell_type": "code",
   "source": "",
   "outputs": [],
   "execution_count": null
  },
  {
   "metadata": {
    "jupyter": {
     "is_executing": true
    }
   },
   "cell_type": "code",
   "source": "",
   "outputs": [],
   "execution_count": null
  },
  {
   "metadata": {
    "jupyter": {
     "is_executing": true
    }
   },
   "cell_type": "code",
   "source": "",
   "outputs": [],
   "execution_count": null
  },
  {
   "metadata": {},
   "cell_type": "code",
   "outputs": [],
   "execution_count": null,
   "source": ""
  }
 ]
}
